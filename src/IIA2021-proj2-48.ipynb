{
 "cells": [
  {
   "cell_type": "markdown",
   "metadata": {
    "colab_type": "text",
    "id": "LekFEsVbua_R"
   },
   "source": [
    "#  Jogo variante do puzzle 2084\n",
    "\n",
    "## Introdução à Inteligência Artificial edição 2021/22\n",
    "### Projeto nº 2\n",
    "\n",
    "<img src=\".\\imagens_2048\\1024s.PNG\" alt=\"Drawing\" style=\"width: 200px;\"/>"
   ]
  },
  {
   "cell_type": "markdown",
   "metadata": {},
   "source": [
    "### Grupo: 48\n",
    "\n",
    "#### Elementos do Grupo\n",
    "\n",
    "Nome: Afonso Esteves\n",
    "\n",
    "Número: 54394\n",
    "\n",
    "Nome: João Anjos\n",
    "\n",
    "Número: 54476\n",
    "\n",
    "Nome: Vicente Sousa\n",
    "\n",
    "Número: 55386"
   ]
  },
  {
   "cell_type": "markdown",
   "metadata": {},
   "source": [
    "## Introdução\n",
    "Este é um esqueleto do relatório que podem naturalmente expandir, colocando mais células de texto e de código."
   ]
  },
  {
   "cell_type": "markdown",
   "metadata": {},
   "source": [
    "## Formulação do Jogo 2048 em termos de estados e de operadores"
   ]
  },
  {
   "cell_type": "markdown",
   "metadata": {},
   "source": [
    "### Descrição da representação dos estados do jogo"
   ]
  },
  {
   "cell_type": "markdown",
   "metadata": {},
   "source": [
    "A representação de estados é conseguida através da definição da classe Jogo2048State, filha de GameState. Esta classe define as funções básicas para a manipulação e avaliação de estados. Cada estado é descrito por uma matrix 4x4, que guarda o tabuleiro, um utility que é o valor do score no estado atual um to_move que representa o player que irá jogar sobre esse estado. Por cada estado é possível obter as ações possíveis sobre ele mesmo, de acordo com o player, o estado resultante após aplicar uma ação sobre o mesmo e várias outras funções de auxílio como o other quer retorna o jogador complementar ao to_move, o display que escreve uma representação visual do tabuleiro para o standard output e o _collapse que calcula as colisões após o tabuleiro ter sido \"deslizado\". A implementação correspondente segue-se:"
   ]
  },
  {
   "cell_type": "code",
   "execution_count": null,
   "metadata": {},
   "outputs": [],
   "source": [
    "from IIA2122_proj2_48 import *\n",
    "\"\"\"\n",
    "ref = [0,0,0,0]\n",
    "\n",
    "def alignLeft(str, chars):\n",
    "    return (\" \"*(chars-len(str)))+str\n",
    "\n",
    "def reverse(line):\n",
    "    return line[::-1]\n",
    "\n",
    "def transpose(matrix):\n",
    "    return list(map(lambda x: list(x), zip(*matrix)))\n",
    "\n",
    "def removeZeros(line):\n",
    "    return list(filter( lambda x: x != 0, line))\n",
    "\n",
    "def sumStep(line):\n",
    "    if len(line) < 2:\n",
    "        return False\n",
    "\n",
    "    done = False\n",
    "    for i in range(len(line)-2, -1, -1):\n",
    "        if line[i] == line[i+1]:\n",
    "            line[i+1] *= 2\n",
    "            line[i] = 0\n",
    "            i -= 1\n",
    "            done = True\n",
    "    return done\n",
    "\n",
    "def pad(line):\n",
    "    return ref[:len(ref)-len(line):] + line\n",
    "\n",
    "def sumLine(line):\n",
    "    li = removeZeros(line)\n",
    "\n",
    "    while sumStep(li):\n",
    "        li = removeZeros(li)\n",
    "    return pad(li)\n",
    "\n",
    "actions = {\n",
    "    \"direita\": lambda m: list( map( lambda l: sumLine(l), m )), \n",
    "    \"esquerda\": lambda m: list( map( lambda l: reverse(sumLine(reverse(l))) , m )),\n",
    "    \"cima\": lambda m: transpose( map( lambda l: reverse(sumLine(reverse(l))) , transpose(m) ) ),\n",
    "    \"baixo\": lambda m: transpose( map( lambda l: sumLine(l) , transpose(m) ) ),\n",
    "}\n",
    "\n",
    "\n",
    "class Jogo2048State(GameState):\n",
    "    \n",
    "    def __collapse(self, direction):\n",
    "        try:\n",
    "            newstate = Jogo2048State(to_move=\"defensor\", utility=0, board = actions[direction](self.board), moves=self.moves+1)\n",
    "        except KeyError:\n",
    "            raise RuntimeError(\"Error - invalid direction of movement\" )\n",
    "\n",
    "        return newstate\n",
    "    \n",
    "    def next_move(self, move):\n",
    "        if self.to_move == \"atacante\":\n",
    "            return self.__collapse(move)\n",
    "        elif self.to_move == \"defensor\":\n",
    "            newstate = Jogo2048State(to_move=\"atacante\", utility=0, board = copy.deepcopy(self.board), moves=self.moves+1)\n",
    "            newstate.board[int(move[0])][int(move[2])] = 2\n",
    "            return newstate\n",
    "        else:\n",
    "            raise RuntimeError(\"Error - invalid player descriptor\")\n",
    "\n",
    "    def other(self):\n",
    "        if self.to_move == \"atacante\":\n",
    "            return \"defensor\"\n",
    "        if self.to_move == \"defensor\":\n",
    "            return \"atacante\"\n",
    "        else:\n",
    "            raise RuntimeError(\"Error - invalid player descriptor\")\n",
    "\n",
    "    def display(self):\n",
    "        print(\"=\"*28)\n",
    "        for i in self.board:\n",
    "            for j in i:\n",
    "                print(alignLeft(str(j), 5), end=\" \")\n",
    "            print()\n",
    "        print(\"=\"*28)\n",
    "\n",
    "    def get_moves(self):\n",
    "        if self.to_move == \"atacante\":\n",
    "            return [ a for a in [\"cima\", \"direita\", \"baixo\", \"esquerda\"] if self.__collapse(a).board != self.board ]\n",
    "        if self.to_move == \"defensor\":\n",
    "            res = []\n",
    "            for i in range(3, -1, -1):\n",
    "                for j in range(4):\n",
    "                    if self.board[i][j] == 0:\n",
    "                        res.append(str(i)+\",\"+str(j))\n",
    "            return res\n",
    "        else:\n",
    "            raise RuntimeError(\"Error - invalid player descriptor\")\n",
    "\n",
    "\"\"\""
   ]
  },
  {
   "cell_type": "markdown",
   "metadata": {},
   "source": [
    "### Testes da formulação"
   ]
  },
  {
   "cell_type": "markdown",
   "metadata": {},
   "source": [
    "#### Situações iniciais dos jogos\n",
    "Uso do construtor e \"display\" de jogos iniciais"
   ]
  },
  {
   "cell_type": "markdown",
   "metadata": {},
   "source": [
    "Construção de um novo jogo com a situação inicial seguinte:\n",
    "\n",
    "<img src=\".\\imagens_2048\\inicial_2048.PNG\" alt=\"Drawing\" style=\"width: 150px;\"/>\n",
    "<p style=\"text-align: center;\">Figura 1</p>"
   ]
  },
  {
   "cell_type": "code",
   "execution_count": null,
   "metadata": {},
   "outputs": [],
   "source": [
    "game = Jogo2048_48((3,2), (3,3))"
   ]
  },
  {
   "cell_type": "markdown",
   "metadata": {},
   "source": [
    "Eis o display desse estado inicial do jogo:"
   ]
  },
  {
   "cell_type": "code",
   "execution_count": null,
   "metadata": {},
   "outputs": [],
   "source": [
    "game.display(game.initial)"
   ]
  },
  {
   "cell_type": "markdown",
   "metadata": {},
   "source": [
    "#### As acções\n",
    "Demonstração das acções possíveis e execução de acções para diversas situações que podem ser simples, por exemplo, iniciais ou mais complexas (a meio do jogo, já com muitas células preechidas."
   ]
  },
  {
   "cell_type": "markdown",
   "metadata": {},
   "source": [
    "As acções para o estado inicial do jogo na Fig. 1"
   ]
  },
  {
   "cell_type": "code",
   "execution_count": null,
   "metadata": {},
   "outputs": [],
   "source": [
    "initial_acts = game.actions(game.initial)"
   ]
  },
  {
   "cell_type": "markdown",
   "metadata": {},
   "source": [
    "#### Execução das acções"
   ]
  },
  {
   "cell_type": "markdown",
   "metadata": {},
   "source": [
    "Execute a acção direita para o estado da figura 1 e faça o seu display"
   ]
  },
  {
   "cell_type": "code",
   "execution_count": null,
   "metadata": {},
   "outputs": [],
   "source": [
    "state2 = game.result(game.initial, \"direita\")\n",
    "game.display(state2)"
   ]
  },
  {
   "cell_type": "markdown",
   "metadata": {},
   "source": [
    "Mostre o estado inicial outra vez, para confirmar que não se \"deformou\" devido à execução da acção. "
   ]
  },
  {
   "cell_type": "code",
   "execution_count": null,
   "metadata": {},
   "outputs": [],
   "source": [
    "game.display(game.initial)"
   ]
  },
  {
   "cell_type": "markdown",
   "metadata": {},
   "source": [
    "Mostre como ficaria a execução da acção na situação na figura 2\n",
    "\n",
    "<img src=\".\\imagens_2048\\deslizar_2048.PNG\" alt=\"Drawing\" style=\"width: 350px;\"/>\n",
    "<p style=\"text-align: center;\">Figura 2</p>"
   ]
  },
  {
   "cell_type": "code",
   "execution_count": null,
   "metadata": {},
   "outputs": [],
   "source": [
    "fig2 = [[0,2,4,2],[2,0,8,2],[2,16,8,2],[2048,32,8,2]]\n",
    "state3 = game.result(Jogo2048State(to_move = \"atacante\", utility= 2138, board = fig2), \"baixo\")\n",
    "game.display(state3)#remove after testing"
   ]
  },
  {
   "cell_type": "markdown",
   "metadata": {},
   "source": [
    "Mostre que ao aplicar a sequência de acções, (criada na célula a seguir) ao estado inicial da Figura 3, ficará com o jogo na situação ilustrada na Figura 4. O ideal é fazer uma função que executa uma sequência de acções."
   ]
  },
  {
   "cell_type": "markdown",
   "metadata": {},
   "source": [
    "| <p style=\"text-align: center;\">Início</p>      | <p style=\"text-align: center;\">Fim</p> |\n",
    "| :---        |    :----:   |\n",
    "| <img src=\"imagens_2048\\seq_teste_begin.PNG\" alt=\"Drawing\" style=\"width: 150px;\"/>      | <img src=\"imagens_2048\\seq_teste_end.PNG\" alt=\"Drawing\" style=\"width: 150px;\"/>       |   |\n",
    "| <p style=\"text-align: center;\">Figura 3</p>   | <p style=\"text-align: center;\">Figura 4</p>        |"
   ]
  },
  {
   "cell_type": "code",
   "execution_count": 1,
   "metadata": {},
   "outputs": [],
   "source": [
    "seqTeste=['cima',\"1,0\",\"cima\",\"3,3\",\"cima\",\"2,0\",\"direita\",\"2,0\",\"esquerda\",\"1,0\",\n",
    "          \"baixo\",\"0,2\",\"baixo\",\"0,0\",\"direita\",\"2,0\",\"cima\",\"2,2\",\"baixo\",\"1,0\",\n",
    "          \"esquerda\",\"0,1\",\"baixo\",\"0,2\",\"esquerda\",\"0,2\",\"baixo\",\"0,3\",\"cima\",\"2,3\",\n",
    "          \"cima\",\"2,0\",\"esquerda\",\"3,2\",\"cima\",\"1,2\",\"esquerda\",\"3,1\",\"direita\",\"3,1\",\n",
    "          \"direita\",\"0,0\"]\n",
    "\n",
    "fig3 = [[0,0,0,0],[0,0,0,0],[0,2,2,0],[0,0,0,0]]\n",
    "state4 = game.resultActions(Jogo2048State(to_move = \"atacante\", utility = 0, board = fig3), seqTeste)\n",
    "game.display(state4)#remove after testing"
   ]
  },
  {
   "cell_type": "markdown",
   "metadata": {},
   "source": [
    "#### Demonstração que o teste de estado final do jogo funciona\n",
    "Podem testar para a situação na Figura 4.\n",
    "\n",
    "<img src=\".\\imagens_2048\\the-end-2084.PNG\" alt=\"Drawing\" style=\"width: 150px;\"/>\n",
    "<p style=\"text-align: center;\">Figura 4</p>"
   ]
  },
  {
   "cell_type": "code",
   "execution_count": null,
   "metadata": {},
   "outputs": [],
   "source": [
    "fig4 = [[16,128,32,16],[8,32,2,8],[2,4,16,2],[4,2,8,4]]\n",
    "print(str(game.terminal_test(Jogo2048State(to_move=\"atacante\",utility=0,board=fig4))))#remove print after testing"
   ]
  },
  {
   "cell_type": "markdown",
   "metadata": {},
   "source": [
    "## Jogos entre jogadores simples\n",
    "Nesta secção irão realizar alguns jogos, para verificar a modelização"
   ]
  },
  {
   "cell_type": "markdown",
   "metadata": {},
   "source": [
    "### Jogadores aleatórios de ataque e de defesa\n",
    "Mostre que a sua função que realiza jogos entre dois jogadores (com e sem timeout) funciona para dois jogadores aleatórios.  "
   ]
  },
  {
   "cell_type": "code",
   "execution_count": null,
   "metadata": {},
   "outputs": [],
   "source": []
  },
  {
   "cell_type": "markdown",
   "metadata": {},
   "source": [
    "Faça o display de um dos jogos realizados atrás"
   ]
  },
  {
   "cell_type": "code",
   "execution_count": null,
   "metadata": {},
   "outputs": [],
   "source": []
  },
  {
   "cell_type": "markdown",
   "metadata": {},
   "source": [
    "### Jogadores de ataque e de defesa obsessivos\n"
   ]
  },
  {
   "cell_type": "markdown",
   "metadata": {},
   "source": [
    "Crie um dois jogadores obsessivos: o atacante obsessivo, prefere sempre por esta ordem, as acções: 'cima', 'esquerda','direita' e 'baixo'. O obsessivo da defesa prefere a célula mais no topo e mais à esquerda possível.\n",
    "Realize um jogo entre eles e faça o seu display."
   ]
  },
  {
   "cell_type": "code",
   "execution_count": null,
   "metadata": {},
   "outputs": [],
   "source": [
    "game.jogar(atacante_obsessivo, defensor_obsessivo)"
   ]
  },
  {
   "cell_type": "markdown",
   "metadata": {},
   "source": [
    "## Exemplos de jogadores alfabeta\n",
    " Descreva e teste nesta secção as várias funções de avaliação desenvolvidas tanto para o ataque como para a defesa."
   ]
  },
  {
   "cell_type": "code",
   "execution_count": null,
   "metadata": {},
   "outputs": [],
   "source": []
  },
  {
   "cell_type": "markdown",
   "metadata": {},
   "source": [
    "## Exemplos de jogos entre alguns desses jogadores e o Hipólito"
   ]
  },
  {
   "cell_type": "code",
   "execution_count": null,
   "metadata": {},
   "outputs": [],
   "source": []
  },
  {
   "cell_type": "markdown",
   "metadata": {},
   "source": [
    "## Exemplos de jogos entre dois dos vários jogadores desenvolvidos"
   ]
  },
  {
   "cell_type": "code",
   "execution_count": null,
   "metadata": {},
   "outputs": [],
   "source": []
  },
  {
   "cell_type": "markdown",
   "metadata": {},
   "source": [
    "## Processo de selecção dos jogadores para o torneio\n",
    "Descreva o processo de selecção dos jogadores campeões, para entrar no campeonato \"todos contra todos\".\n",
    "\n",
    "<img src=\".\\imagens_2048\\ormwphixo7y21.jpg\" alt=\"Drawing\" style=\"width: 350px;\"/>\n"
   ]
  },
  {
   "cell_type": "markdown",
   "metadata": {},
   "source": [
    "O Processo de selecção teve por base a elaboração de um algoritmo genético. Após defenir a base da função de avaliação a ser utilizada, que é constituída por 4 critérios definidos previamente, multiplicados por um peso arbitrário, gerou-se funções de avaliação com um tuplo de 4 pesos random. O algoritmo genético corrido encarregou-se portanto de selecionar as funções de avaliação com os pesos ideais de forma a obter a melhor função de avaliação possível."
   ]
  }
 ],
 "metadata": {
  "colab": {
   "collapsed_sections": [],
   "name": "Untitled0.ipynb",
   "provenance": [],
   "version": "0.3.2"
  },
  "kernelspec": {
   "display_name": "Python 3",
   "language": "python",
   "name": "python3"
  },
  "language_info": {
   "codemirror_mode": {
    "name": "ipython",
    "version": 3
   },
   "file_extension": ".py",
   "mimetype": "text/x-python",
   "name": "python",
   "nbconvert_exporter": "python",
   "pygments_lexer": "ipython3",
   "version": "3.7.0"
  }
 },
 "nbformat": 4,
 "nbformat_minor": 2
}
