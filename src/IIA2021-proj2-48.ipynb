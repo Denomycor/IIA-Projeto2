{
 "cells": [
  {
   "cell_type": "markdown",
   "metadata": {
    "colab_type": "text",
    "id": "LekFEsVbua_R"
   },
   "source": [
    "#  Jogo variante do puzzle 2084\n",
    "\n",
    "## Introdução à Inteligência Artificial edição 2021/22\n",
    "### Projeto nº 2\n",
    "\n",
    "<img src=\".\\imagens_2048\\1024s.PNG\" alt=\"Drawing\" style=\"width: 200px;\"/>"
   ]
  },
  {
   "cell_type": "markdown",
   "metadata": {},
   "source": [
    "### Grupo: 48\n",
    "\n",
    "#### Elementos do Grupo\n",
    "\n",
    "Nome: Afonso Esteves\n",
    "\n",
    "Número: 54394\n",
    "\n",
    "Nome: João Anjos\n",
    "\n",
    "Número: 54476\n",
    "\n",
    "Nome: Vicente Sousa\n",
    "\n",
    "Número: 55386"
   ]
  },
  {
   "cell_type": "markdown",
   "metadata": {},
   "source": [
    "## Introdução\n",
    "Este é um esqueleto do relatório que podem naturalmente expandir, colocando mais células de texto e de código."
   ]
  },
  {
   "cell_type": "markdown",
   "metadata": {},
   "source": [
    "## Formulação do Jogo 2048 em termos de estados e de operadores"
   ]
  },
  {
   "cell_type": "markdown",
   "metadata": {},
   "source": [
    "### Descrição da representação dos estados do jogo"
   ]
  },
  {
   "cell_type": "markdown",
   "metadata": {},
   "source": [
    "A representação de estados é conseguida através da definição da classe Jogo2048State, filha de GameState. Esta classe define as funções básicas para a manipulação e avaliação de estados. \n",
    "\n",
    "Cada estado é descrito por um tuplo de quatro valores:\n",
    "```python \n",
    "GameState = namedtuple('GameState', 'to_move, utility, board, moves')\n",
    "```\n",
    "\n",
    "* to_move corresponde ao jogador que irá jogar a seguir no estado atual\n",
    "* utility indica o número de pontos obtidos no estado atual (igual para ambos os jogadores)\n",
    "* board é a matriz 4x4 que representa o tabuleiro, assim como as peças nele colocado\n",
    "* moves contabiliza o número de jogadas efetuadas desde o estado inicial até o estado atual\n",
    "\n",
    "Por cada estado é possível obter as ações possíveis sobre ele mesmo, de acordo com o player, o estado resultante após aplicar uma ação sobre o mesmo e várias outras funções de auxílio como o other que retorna o jogador complementar ao to_move, o display que escreve uma representação visual do tabuleiro para o standard output e o _collapse que calcula as colisões após o tabuleiro ter sido \"deslizado\". A implementação correspondente (```Jogo2048State```), retirada do ficheiro segue-se:\n",
    "\n",
    "```python \n",
    "# GameState = namedtuple('GameState', 'to_move, utility, board, moves')\n",
    "class Jogo2048State(GameState):\n",
    "    \n",
    "    \"\"\"Returns a new state representing the board after the attacker player chooses a direction\"\"\"\n",
    "    def __collapse(self, direction):\n",
    "        try:\n",
    "            output = actions[direction](self.board)\n",
    "            newstate = Jogo2048State(to_move=\"defensor\", utility = self.utility + output[1], board = output[0], moves=self.moves+1)\n",
    "        except KeyError:\n",
    "            raise RuntimeError(\"Error - invalid direction of movement\" )\n",
    "\n",
    "        return newstate\n",
    "    \n",
    "    \"\"\"Returns a new state representing the board after a player action, doesn't check whether the action is valid or not\"\"\"\n",
    "    def next_move(self, move):\n",
    "        if self.to_move == \"atacante\":\n",
    "            return self.__collapse(move)\n",
    "        elif self.to_move == \"defensor\":\n",
    "            newstate = Jogo2048State(to_move=\"atacante\", utility = self.utility, board = copy.deepcopy(self.board), moves=self.moves+1)\n",
    "            newstate.board[int(move[0])][int(move[2])] = 2\n",
    "            return newstate\n",
    "        else:\n",
    "            raise RuntimeError(\"Error - invalid player descriptor\")\n",
    "\n",
    "    \"\"\"Returns the other player, the one not playing this turn\"\"\"\n",
    "    def other(self):\n",
    "        if self.to_move == \"atacante\":\n",
    "            return \"defensor\"\n",
    "        if self.to_move == \"defensor\":\n",
    "            return \"atacante\"\n",
    "        else:\n",
    "            raise RuntimeError(\"Error - invalid player descriptor\")\n",
    "\n",
    "    \"\"\"Prints the board\"\"\"\n",
    "    def display(self):\n",
    "        print(\"=\"*28)\n",
    "        for i in self.board:\n",
    "            for j in i:\n",
    "                print(alignLeft(str(j), 5), end=\" \")\n",
    "            print()\n",
    "        print(\"=\"*28)\n",
    "\n",
    "    \"\"\"Returns all valid moves for the state\"\"\"\n",
    "    def get_moves(self):\n",
    "        if self.to_move == \"atacante\":\n",
    "            return [ a for a in [\"cima\", \"esquerda\", \"direita\", \"baixo\"] if self.__collapse(a).board != self.board ]\n",
    "        if self.to_move == \"defensor\":\n",
    "            res = []\n",
    "            for i in range(4):\n",
    "                for j in range(4):\n",
    "                    if self.board[i][j] == 0:\n",
    "                        res.append(str(i)+\",\"+str(j))\n",
    "            return res\n",
    "        else:\n",
    "            raise RuntimeError(\"Error - invalid player descriptor\")\n",
    "```"
   ]
  },
  {
   "cell_type": "markdown",
   "metadata": {},
   "source": [
    "### Testes da formulação"
   ]
  },
  {
   "cell_type": "markdown",
   "metadata": {},
   "source": [
    "#### Situações iniciais dos jogos\n",
    "Uso do construtor e \"display\" de jogos iniciais"
   ]
  },
  {
   "cell_type": "markdown",
   "metadata": {},
   "source": [
    "Construção de um novo jogo com a situação inicial seguinte:\n",
    "\n",
    "<img src=\".\\imagens_2048\\inicial_2048.PNG\" alt=\"Drawing\" style=\"width: 150px;\"/>\n",
    "<p style=\"text-align: center;\">Figura 1</p>"
   ]
  },
  {
   "cell_type": "code",
   "execution_count": null,
   "metadata": {},
   "outputs": [],
   "source": [
    "from IIA2122_proj2_48 import *\n",
    "game = Jogo2048_48((3,2), (3,3))"
   ]
  },
  {
   "cell_type": "markdown",
   "metadata": {},
   "source": [
    "Eis o display desse estado inicial do jogo:"
   ]
  },
  {
   "cell_type": "code",
   "execution_count": null,
   "metadata": {},
   "outputs": [],
   "source": [
    "game.display(game.initial)"
   ]
  },
  {
   "cell_type": "markdown",
   "metadata": {},
   "source": [
    "#### As acções\n",
    "Demonstração das acções possíveis e execução de acções para diversas situações que podem ser simples, por exemplo, iniciais ou mais complexas (a meio do jogo, já com muitas células preechidas."
   ]
  },
  {
   "cell_type": "markdown",
   "metadata": {},
   "source": [
    "As acções para o estado inicial do jogo na Fig. 1"
   ]
  },
  {
   "cell_type": "code",
   "execution_count": null,
   "metadata": {},
   "outputs": [],
   "source": [
    "initial_acts = game.actions(game.initial)"
   ]
  },
  {
   "cell_type": "markdown",
   "metadata": {},
   "source": [
    "#### Execução das acções"
   ]
  },
  {
   "cell_type": "markdown",
   "metadata": {},
   "source": [
    "Execute a acção direita para o estado da figura 1 e faça o seu display"
   ]
  },
  {
   "cell_type": "code",
   "execution_count": null,
   "metadata": {},
   "outputs": [],
   "source": [
    "state2 = game.result(game.initial, \"direita\")\n",
    "game.display(state2)"
   ]
  },
  {
   "cell_type": "markdown",
   "metadata": {},
   "source": [
    "Mostre o estado inicial outra vez, para confirmar que não se \"deformou\" devido à execução da acção. "
   ]
  },
  {
   "cell_type": "code",
   "execution_count": null,
   "metadata": {},
   "outputs": [],
   "source": [
    "game.display(game.initial)"
   ]
  },
  {
   "cell_type": "markdown",
   "metadata": {},
   "source": [
    "Mostre como ficaria a execução da acção na situação na figura 2\n",
    "\n",
    "<img src=\".\\imagens_2048\\deslizar_2048.PNG\" alt=\"Drawing\" style=\"width: 350px;\"/>\n",
    "<p style=\"text-align: center;\">Figura 2</p>"
   ]
  },
  {
   "cell_type": "code",
   "execution_count": null,
   "metadata": {},
   "outputs": [],
   "source": [
    "fig2 = [[0,2,4,2],[2,0,8,2],[2,16,8,2],[2048,32,8,2]]\n",
    "state3 = game.result(Jogo2048State(to_move = \"atacante\", utility= 2138, board = fig2), \"baixo\")\n",
    "game.display(state3)#remove after testing"
   ]
  },
  {
   "cell_type": "markdown",
   "metadata": {},
   "source": [
    "Mostre que ao aplicar a sequência de acções, (criada na célula a seguir) ao estado inicial da Figura 3, ficará com o jogo na situação ilustrada na Figura 4. O ideal é fazer uma função que executa uma sequência de acções."
   ]
  },
  {
   "cell_type": "markdown",
   "metadata": {},
   "source": [
    "| <p style=\"text-align: center;\">Início</p>      | <p style=\"text-align: center;\">Fim</p> |\n",
    "| :---        |    :----:   |\n",
    "| <img src=\"imagens_2048\\seq_teste_begin.PNG\" alt=\"Drawing\" style=\"width: 150px;\"/>      | <img src=\"imagens_2048\\seq_teste_end.PNG\" alt=\"Drawing\" style=\"width: 150px;\"/>       |   |\n",
    "| <p style=\"text-align: center;\">Figura 3</p>   | <p style=\"text-align: center;\">Figura 4</p>        |"
   ]
  },
  {
   "cell_type": "code",
   "execution_count": 1,
   "metadata": {},
   "outputs": [],
   "source": [
    "seqTeste=['cima',\"1,0\",\"cima\",\"3,3\",\"cima\",\"2,0\",\"direita\",\"2,0\",\"esquerda\",\"1,0\",\n",
    "          \"baixo\",\"0,2\",\"baixo\",\"0,0\",\"direita\",\"2,0\",\"cima\",\"2,2\",\"baixo\",\"1,0\",\n",
    "          \"esquerda\",\"0,1\",\"baixo\",\"0,2\",\"esquerda\",\"0,2\",\"baixo\",\"0,3\",\"cima\",\"2,3\",\n",
    "          \"cima\",\"2,0\",\"esquerda\",\"3,2\",\"cima\",\"1,2\",\"esquerda\",\"3,1\",\"direita\",\"3,1\",\n",
    "          \"direita\",\"0,0\"]\n",
    "\n",
    "fig3 = [[0,0,0,0],[0,0,0,0],[0,2,2,0],[0,0,0,0]]\n",
    "state4 = game.resultActions(Jogo2048State(to_move = \"atacante\", utility = 0, board = fig3), seqTeste)\n",
    "game.display(state4)#remove after testing"
   ]
  },
  {
   "cell_type": "markdown",
   "metadata": {},
   "source": [
    "#### Demonstração que o teste de estado final do jogo funciona\n",
    "Podem testar para a situação na Figura 4.\n",
    "\n",
    "<img src=\".\\imagens_2048\\the-end-2084.PNG\" alt=\"Drawing\" style=\"width: 150px;\"/>\n",
    "<p style=\"text-align: center;\">Figura 4</p>"
   ]
  },
  {
   "cell_type": "code",
   "execution_count": null,
   "metadata": {},
   "outputs": [],
   "source": [
    "fig4 = [[16,128,32,16],[8,32,2,8],[2,4,16,2],[4,2,8,4]]\n",
    "print(str(game.terminal_test(Jogo2048State(to_move=\"atacante\",utility=0,board=fig4))))#remove print after testing"
   ]
  },
  {
   "cell_type": "markdown",
   "metadata": {},
   "source": [
    "## Jogos entre jogadores simples\n",
    "Nesta secção irão realizar alguns jogos, para verificar a modelização"
   ]
  },
  {
   "cell_type": "markdown",
   "metadata": {},
   "source": [
    "### Jogadores aleatórios de ataque e de defesa\n",
    "Mostre que a sua função que realiza jogos entre dois jogadores (com e sem timeout) funciona para dois jogadores aleatórios.  "
   ]
  },
  {
   "cell_type": "code",
   "execution_count": null,
   "metadata": {},
   "outputs": [],
   "source": []
  },
  {
   "cell_type": "markdown",
   "metadata": {},
   "source": [
    "Faça o display de um dos jogos realizados atrás"
   ]
  },
  {
   "cell_type": "code",
   "execution_count": null,
   "metadata": {},
   "outputs": [],
   "source": []
  },
  {
   "cell_type": "markdown",
   "metadata": {},
   "source": [
    "### Jogadores de ataque e de defesa obsessivos\n"
   ]
  },
  {
   "cell_type": "markdown",
   "metadata": {},
   "source": [
    "Crie um dois jogadores obsessivos: o atacante obsessivo, prefere sempre por esta ordem, as acções: 'cima', 'esquerda','direita' e 'baixo'. O obsessivo da defesa prefere a célula mais no topo e mais à esquerda possível.\n",
    "Realize um jogo entre eles e faça o seu display."
   ]
  },
  {
   "cell_type": "code",
   "execution_count": null,
   "metadata": {},
   "outputs": [],
   "source": [
    "game.jogar(atacante_obsessivo, defensor_obsessivo)"
   ]
  },
  {
   "cell_type": "markdown",
   "metadata": {},
   "source": [
    "## Exemplos de jogadores alfabeta\n",
    " Descreva e teste nesta secção as várias funções de avaliação desenvolvidas tanto para o ataque como para a defesa."
   ]
  },
  {
   "cell_type": "code",
   "execution_count": null,
   "metadata": {},
   "outputs": [],
   "source": []
  },
  {
   "cell_type": "markdown",
   "metadata": {},
   "source": [
    "## Exemplos de jogos entre alguns desses jogadores e o Hipólito"
   ]
  },
  {
   "cell_type": "code",
   "execution_count": null,
   "metadata": {},
   "outputs": [],
   "source": []
  },
  {
   "cell_type": "markdown",
   "metadata": {},
   "source": [
    "## Exemplos de jogos entre dois dos vários jogadores desenvolvidos"
   ]
  },
  {
   "cell_type": "code",
   "execution_count": null,
   "metadata": {},
   "outputs": [],
   "source": [
    "\n",
    "game.jogar(atacante_hipolito.alg, createOptPlayer(\"player1\", (83.1, 23.6, 35.5, 24.9))[\"player\"].alg)\n",
    "game.jogar(createOptPlayer(\"player1\", (18.3, 23.0, 58.0, 72.4))[\"player\"].alg, defensor_obsessivo.alg)\n"
   ]
  },
  {
   "cell_type": "markdown",
   "metadata": {},
   "source": [
    "## Processo de selecção dos jogadores para o torneio\n",
    "Descreva o processo de selecção dos jogadores campeões, para entrar no campeonato \"todos contra todos\".\n",
    "\n",
    "<img src=\".\\imagens_2048\\ormwphixo7y21.jpg\" alt=\"Drawing\" style=\"width: 350px;\"/>\n"
   ]
  },
  {
   "cell_type": "markdown",
   "metadata": {},
   "source": [
    "O Processo de selecção teve por base a elaboração de um algoritmo genético. Após defenir a base da função de avaliação a ser utilizada, que é constituída por 4 critérios definidos previamente, multiplicados por um peso arbitrário, gerou-se funções de avaliação com um tuplo de 4 pesos random. O algoritmo genético corrido encarregou-se portanto de selecionar as funções de avaliação com os pesos ideais de forma a obter a melhor função de avaliação possível."
   ]
  }
 ],
 "metadata": {
  "colab": {
   "collapsed_sections": [],
   "name": "Untitled0.ipynb",
   "provenance": [],
   "version": "0.3.2"
  },
  "kernelspec": {
   "display_name": "Python 3",
   "language": "python",
   "name": "python3"
  },
  "language_info": {
   "codemirror_mode": {
    "name": "ipython",
    "version": 3
   },
   "file_extension": ".py",
   "mimetype": "text/x-python",
   "name": "python",
   "nbconvert_exporter": "python",
   "pygments_lexer": "ipython3",
   "version": "3.7.0"
  }
 },
 "nbformat": 4,
 "nbformat_minor": 2
}
