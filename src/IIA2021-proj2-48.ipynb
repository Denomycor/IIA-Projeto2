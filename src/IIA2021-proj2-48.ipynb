{
 "cells": [
  {
   "cell_type": "markdown",
   "metadata": {
    "colab_type": "text",
    "id": "LekFEsVbua_R"
   },
   "source": [
    "#  Jogo variante do puzzle 2084\n",
    "\n",
    "## Introdução à Inteligência Artificial edição 2021/22\n",
    "### Projeto nº 2\n",
    "\n",
    "<img src=\".\\imagens_2048\\1024s.PNG\" alt=\"Drawing\" style=\"width: 200px;\"/>"
   ]
  },
  {
   "cell_type": "markdown",
   "metadata": {},
   "source": [
    "### Grupo: 48\n",
    "\n",
    "#### Elementos do Grupo\n",
    "\n",
    "Nome: Afonso Esteves\n",
    "\n",
    "Número: 54394\n",
    "\n",
    "Nome: João Anjos\n",
    "\n",
    "Número: 54476\n",
    "\n",
    "Nome: Vicente Sousa\n",
    "\n",
    "Número: 55386"
   ]
  },
  {
   "cell_type": "markdown",
   "metadata": {},
   "source": [
    "## Introdução\n",
    "Este é um esqueleto do relatório que podem naturalmente expandir, colocando mais células de texto e de código."
   ]
  },
  {
   "cell_type": "markdown",
   "metadata": {},
   "source": [
    "## Formulação do Jogo 2048 em termos de estados e de operadores"
   ]
  },
  {
   "cell_type": "markdown",
   "metadata": {},
   "source": [
    "### Descrição da representação dos estados do jogo"
   ]
  },
  {
   "cell_type": "markdown",
   "metadata": {},
   "source": [
    "A representação de estados é conseguida através da definição da classe Jogo2048State, filha de GameState. Esta classe define as funções básicas para a manipulação e avaliação de estados. \n",
    "\n",
    "Cada estado é descrito por um tuplo de quatro valores:\n",
    "```python \n",
    "GameState = namedtuple('GameState', 'to_move, utility, board, moves')\n",
    "```\n",
    "\n",
    "* **to_move** corresponde ao jogador que irá jogar a seguir no estado atual\n",
    "* **utility** indica o número de pontos obtidos no estado atual (igual para ambos os jogadores)\n",
    "* **board** é a matriz 4x4 que representa o tabuleiro, assim como as peças nele colocado\n",
    "* **moves** contabiliza o número de jogadas efetuadas desde o estado inicial até o estado atual\n",
    "\n",
    "Por cada estado é possível obter as ações possíveis sobre ele mesmo, de acordo com o player, o estado resultante após aplicar uma ação sobre o mesmo e várias outras funções de auxílio como o other que retorna o jogador complementar ao to_move, o display que escreve uma representação visual do tabuleiro para o standard output e o _collapse que calcula as colisões após o tabuleiro ter sido \"deslizado\". A implementação correspondente (```Jogo2048State```), retirada do ficheiro segue-se:\n",
    "\n",
    "```python \n",
    "class Jogo2048State(GameState):\n",
    "    \n",
    "    \"\"\"Returns a new state representing the board after the attacker player chooses a direction\"\"\"\n",
    "    def __collapse(self, direction):\n",
    "        try:\n",
    "            output = actions[direction](self.board)\n",
    "            newstate = Jogo2048State(to_move=\"defensor\", utility = self.utility + output[1], board = output[0], moves=self.moves+1)\n",
    "        except KeyError:\n",
    "            raise RuntimeError(\"Error - invalid direction of movement\" )\n",
    "\n",
    "        return newstate\n",
    "    \n",
    "    \"\"\"Returns a new state representing the board after a player action, doesn't check whether the action is valid or not\"\"\"\n",
    "    def next_move(self, move):\n",
    "        if self.to_move == \"atacante\":\n",
    "            return self.__collapse(move)\n",
    "        elif self.to_move == \"defensor\":\n",
    "            newstate = Jogo2048State(to_move=\"atacante\", utility = self.utility, board = copy.deepcopy(self.board), moves=self.moves+1)\n",
    "            newstate.board[int(move[0])][int(move[2])] = 2\n",
    "            return newstate\n",
    "        else:\n",
    "            raise RuntimeError(\"Error - invalid player descriptor\")\n",
    "\n",
    "    \"\"\"Returns the other player, the one not playing this turn\"\"\"\n",
    "    def other(self):\n",
    "        if self.to_move == \"atacante\":\n",
    "            return \"defensor\"\n",
    "        if self.to_move == \"defensor\":\n",
    "            return \"atacante\"\n",
    "        else:\n",
    "            raise RuntimeError(\"Error - invalid player descriptor\")\n",
    "\n",
    "    \"\"\"Prints the board\"\"\"\n",
    "    def display(self):\n",
    "        print(\"=\"*28)\n",
    "        for i in self.board:\n",
    "            for j in i:\n",
    "                print(alignLeft(str(j), 5), end=\" \")\n",
    "            print()\n",
    "        print(\"=\"*28)\n",
    "\n",
    "    \"\"\"Returns all valid moves for the state\"\"\"\n",
    "    def get_moves(self):\n",
    "        if self.to_move == \"atacante\":\n",
    "            return [ a for a in [\"cima\", \"esquerda\", \"direita\", \"baixo\"] if self.__collapse(a).board != self.board ]\n",
    "        if self.to_move == \"defensor\":\n",
    "            res = []\n",
    "            for i in range(4):\n",
    "                for j in range(4):\n",
    "                    if self.board[i][j] == 0:\n",
    "                        res.append(str(i)+\",\"+str(j))\n",
    "            return res\n",
    "        else:\n",
    "            raise RuntimeError(\"Error - invalid player descriptor\")\n",
    "```"
   ]
  },
  {
   "cell_type": "markdown",
   "metadata": {},
   "source": [
    "### Testes da formulação"
   ]
  },
  {
   "cell_type": "markdown",
   "metadata": {},
   "source": [
    "#### Situações iniciais dos jogos\n",
    "Uso do construtor e \"display\" de jogos iniciais"
   ]
  },
  {
   "cell_type": "markdown",
   "metadata": {},
   "source": [
    "Construção de um novo jogo com a situação inicial seguinte:\n",
    "\n",
    "<img src=\".\\imagens_2048\\inicial_2048.PNG\" alt=\"Drawing\" style=\"width: 150px;\"/>\n",
    "<p style=\"text-align: center;\">Figura 1</p>"
   ]
  },
  {
   "cell_type": "code",
   "execution_count": null,
   "metadata": {},
   "outputs": [],
   "source": [
    "from IIA2122_proj2_48 import *\n",
    "game = Jogo2048_48((3,2), (3,3))"
   ]
  },
  {
   "cell_type": "markdown",
   "metadata": {},
   "source": [
    "Eis o display desse estado inicial do jogo:"
   ]
  },
  {
   "cell_type": "code",
   "execution_count": null,
   "metadata": {},
   "outputs": [],
   "source": [
    "game.display(game.initial)"
   ]
  },
  {
   "cell_type": "markdown",
   "metadata": {},
   "source": [
    "#### As acções\n",
    "Demonstração das acções possíveis e execução de acções para diversas situações que podem ser simples, por exemplo, iniciais ou mais complexas (a meio do jogo, já com muitas células preechidas."
   ]
  },
  {
   "cell_type": "markdown",
   "metadata": {},
   "source": [
    "As acções para o estado inicial do jogo na Fig. 1"
   ]
  },
  {
   "cell_type": "code",
   "execution_count": null,
   "metadata": {},
   "outputs": [],
   "source": [
    "initial_acts = game.actions(game.initial)\n",
    "print(initial_acts)"
   ]
  },
  {
   "cell_type": "markdown",
   "metadata": {},
   "source": [
    "#### Execução das acções"
   ]
  },
  {
   "cell_type": "markdown",
   "metadata": {},
   "source": [
    "Execute a acção direita para o estado da figura 1 e faça o seu display"
   ]
  },
  {
   "cell_type": "code",
   "execution_count": null,
   "metadata": {},
   "outputs": [],
   "source": [
    "state2 = game.result(game.initial, \"direita\")\n",
    "game.display(state2)"
   ]
  },
  {
   "cell_type": "markdown",
   "metadata": {},
   "source": [
    "Mostre o estado inicial outra vez, para confirmar que não se \"deformou\" devido à execução da acção. "
   ]
  },
  {
   "cell_type": "code",
   "execution_count": null,
   "metadata": {},
   "outputs": [],
   "source": [
    "game.display(game.initial)"
   ]
  },
  {
   "cell_type": "markdown",
   "metadata": {},
   "source": [
    "Mostre como ficaria a execução da acção na situação na figura 2\n",
    "\n",
    "<img src=\".\\imagens_2048\\deslizar_2048.PNG\" alt=\"Drawing\" style=\"width: 350px;\"/>\n",
    "<p style=\"text-align: center;\">Figura 2</p>"
   ]
  },
  {
   "cell_type": "code",
   "execution_count": null,
   "metadata": {},
   "outputs": [],
   "source": [
    "fig2 = [[0,2,4,2],[2,0,8,2],[2,16,8,2],[2048,32,8,2]]\n",
    "state3 = game.result(Jogo2048State(to_move = \"atacante\", utility= 2138, board = fig2), \"baixo\")\n",
    "game.display(state3)"
   ]
  },
  {
   "cell_type": "markdown",
   "metadata": {},
   "source": [
    "Mostre que ao aplicar a sequência de acções, (criada na célula a seguir) ao estado inicial da Figura 3, ficará com o jogo na situação ilustrada na Figura 4. O ideal é fazer uma função que executa uma sequência de acções."
   ]
  },
  {
   "cell_type": "markdown",
   "metadata": {},
   "source": [
    "| <p style=\"text-align: center;\">Início</p>      | <p style=\"text-align: center;\">Fim</p> |\n",
    "| :---        |    :----:   |\n",
    "| <img src=\"imagens_2048\\seq_teste_begin.PNG\" alt=\"Drawing\" style=\"width: 150px;\"/>      | <img src=\"imagens_2048\\seq_teste_end.PNG\" alt=\"Drawing\" style=\"width: 150px;\"/>       |   |\n",
    "| <p style=\"text-align: center;\">Figura 3</p>   | <p style=\"text-align: center;\">Figura 4</p>        |"
   ]
  },
  {
   "cell_type": "code",
   "execution_count": 1,
   "metadata": {},
   "outputs": [],
   "source": [
    "seqTeste=['cima',\"1,0\",\"cima\",\"3,3\",\"cima\",\"2,0\",\"direita\",\"2,0\",\"esquerda\",\"1,0\",\n",
    "          \"baixo\",\"0,2\",\"baixo\",\"0,0\",\"direita\",\"2,0\",\"cima\",\"2,2\",\"baixo\",\"1,0\",\n",
    "          \"esquerda\",\"0,1\",\"baixo\",\"0,2\",\"esquerda\",\"0,2\",\"baixo\",\"0,3\",\"cima\",\"2,3\",\n",
    "          \"cima\",\"2,0\",\"esquerda\",\"3,2\",\"cima\",\"1,2\",\"esquerda\",\"3,1\",\"direita\",\"3,1\",\n",
    "          \"direita\",\"0,0\"]\n",
    "\n",
    "fig3 = [[0,0,0,0],[0,0,0,0],[0,2,2,0],[0,0,0,0]]\n",
    "state4 = game.resultActions(Jogo2048State(to_move = \"atacante\", utility = 0, board = fig3), seqTeste)\n",
    "game.display(state4)"
   ]
  },
  {
   "cell_type": "markdown",
   "metadata": {},
   "source": [
    "#### Demonstração que o teste de estado final do jogo funciona\n",
    "Podem testar para a situação na Figura 4.\n",
    "\n",
    "<img src=\".\\imagens_2048\\the-end-2084.PNG\" alt=\"Drawing\" style=\"width: 150px;\"/>\n",
    "<p style=\"text-align: center;\">Figura 4</p>"
   ]
  },
  {
   "cell_type": "code",
   "execution_count": null,
   "metadata": {},
   "outputs": [],
   "source": [
    "fig4 = [[16,128,32,16],[8,32,2,8],[2,4,16,2],[4,2,8,4]]\n",
    "print(str(game.terminal_test(Jogo2048State(to_move=\"atacante\",utility=0,board=fig4))))"
   ]
  },
  {
   "cell_type": "markdown",
   "metadata": {},
   "source": [
    "## Jogos entre jogadores simples\n",
    "Nesta secção irão realizar alguns jogos, para verificar a modelização"
   ]
  },
  {
   "cell_type": "markdown",
   "metadata": {},
   "source": [
    "### Jogadores aleatórios de ataque e de defesa\n",
    "Mostre que a sua função que realiza jogos entre dois jogadores (com e sem timeout) funciona para dois jogadores aleatórios.  "
   ]
  },
  {
   "cell_type": "code",
   "execution_count": null,
   "metadata": {},
   "outputs": [],
   "source": []
  },
  {
   "cell_type": "markdown",
   "metadata": {},
   "source": [
    "Faça o display de um dos jogos realizados atrás"
   ]
  },
  {
   "cell_type": "code",
   "execution_count": null,
   "metadata": {},
   "outputs": [],
   "source": []
  },
  {
   "cell_type": "markdown",
   "metadata": {},
   "source": [
    "### Jogadores de ataque e de defesa obsessivos\n"
   ]
  },
  {
   "cell_type": "markdown",
   "metadata": {},
   "source": [
    "Crie um dois jogadores obsessivos: o atacante obsessivo, prefere sempre por esta ordem, as acções: 'cima', 'esquerda','direita' e 'baixo'. O obsessivo da defesa prefere a célula mais no topo e mais à esquerda possível.\n",
    "Realize um jogo entre eles e faça o seu display."
   ]
  },
  {
   "cell_type": "code",
   "execution_count": null,
   "metadata": {},
   "outputs": [],
   "source": [
    "game.jogar(atacante_obsessivo, defensor_obsessivo)"
   ]
  },
  {
   "cell_type": "markdown",
   "metadata": {},
   "source": [
    "## Exemplos de jogadores alfabeta\n",
    " Descreva e teste nesta secção as várias funções de avaliação desenvolvidas tanto para o ataque como para a defesa."
   ]
  },
  {
   "cell_type": "code",
   "execution_count": null,
   "metadata": {},
   "outputs": [],
   "source": []
  },
  {
   "cell_type": "markdown",
   "metadata": {},
   "source": [
    "## Exemplos de jogos entre alguns desses jogadores e o Hipólito"
   ]
  },
  {
   "cell_type": "code",
   "execution_count": null,
   "metadata": {},
   "outputs": [],
   "source": []
  },
  {
   "cell_type": "markdown",
   "metadata": {},
   "source": [
    "## Exemplos de jogos entre dois dos vários jogadores desenvolvidos"
   ]
  },
  {
   "cell_type": "code",
   "execution_count": null,
   "metadata": {},
   "outputs": [],
   "source": []
  },
  {
   "cell_type": "markdown",
   "metadata": {},
   "source": [
    "## Processo de selecção dos jogadores para o torneio\n",
    "\n",
    "\n",
    "<img src=\".\\imagens_2048\\ormwphixo7y21.jpg\" alt=\"Drawing\" style=\"width: 350px;\"/>\n"
   ]
  },
  {
   "cell_type": "markdown",
   "metadata": {},
   "source": [
    "O processo de selecção teve por base a elaboração de um algoritmo genético. Após definir a base da função de avaliação a ser utilizada, que é constituída por quatro critérios definidos previamente (cada um a sua própria função de avaliação), multiplicados por um peso arbitrário, gerou-se funções de avaliação com um tuplo de quatro pesos aleatórios, correspondentes aos quatro critérios. \n",
    "<br>\n",
    "O algoritmo genético corrido encarregou-se portanto de selecionar os pesos ideais para cada critério de forma a obter a melhor função de avaliação possível, utilizando torneios entre os jogadores de forma a determinar quais obtinham melhores resultados, registando um número arbitrário de melhores jogadores em ficheiros .txt, um correspondente ao ataque, e outro correspondente à defesa, de forma a poder utilizar esses valores para testes futuros.\n",
    "Corremos este algoritmo genético em várias instâncias, para diferentes profundidades, com quatro variações, com o seguimento explicado abaixo:\n",
    "\n",
    "* **Atacantes gerados vs Defesas gerados** - Em 1º lugar corremos várias instâncias de torneios entre jogadores gerados pelo algoritmo genético, tanto para o ataque como para a defesa, até os valores dos pesos convergirem na sua maioria.\n",
    "* **Atacantes gerados / Atacantes hipólitos vs Defesas hipólitos / Defesas gerados** - em 2º lugar corremos várias instâncias de torneios entre atacantes gerados e defesas hipólitos, e atacantes hipólitos e defesas gerados, respetivamente, de forma a obter os atacantes e defesas gerados pelo algoritmo genético que obtinham melhores resultados contra os jogadores hipólitos.\n",
    "* **Atacantes gerados / Atacantes obssessivos vs Defesas obsessivos/ Defesas gerados** - em 3º lugar, aplicamos o mesmo conceito da variação anterior, mas substituimos os jogadores hipólitos por jogadores obsessivos.\n",
    "* **Atacantes \"ótimos\" gerados vs Defesas \"ótimos\" gerados** - Por último, corremos várias instâncias de torneios entre os melhores atacantes e defesas gerados pelo nosso algoritmo genético obtido das rondas anteriores, de forma a chegarmos ao atacante e defesa \"ideais\" para serem utilizados no torneio.\n",
    "\n",
    "Como exemplo, podem observar o código de teste utilizado para correr a última variação / ronda dos nossos testes, tendo em conta que este código era muito semelhante ao utilizado para correr as outras variações dos nossos testes, sofrendo apenas alterações mínimas que afetavam a profundidade (depth), o numero de jogadores por torneio, o numero de jogadores eliminado e gerado ao fim de cada torneio/geração, entre outros:\n",
    "\n",
    "```python\n",
    "listAtk = []#[atacante_hipolito, atacante_obsessivo]\n",
    "listDef = []#[defensor_obsessivo, defensor_hipolito]\n",
    "\n",
    "\n",
    "init_pop = 0\n",
    "num_gen = 1000\n",
    "num_reproduce = 1\n",
    "num_survivors = 3\n",
    "\n",
    "#createOptPlayer(\"Opt1AHipolito\", (13, 47, 54, 57))\n",
    "#createOptPlayer(\"Opt2AHipolito\", (18, 47, 54, 57))\n",
    "\n",
    "for i in range(init_pop):\n",
    "    ga = generate()\n",
    "    listAtk.append( createPlayer( \"Atk-\", ga) )\n",
    "    gd = generate()\n",
    "    listDef.append( createPlayer( \"Def-\", gd) )\n",
    "\n",
    "listAtk.append(createOptPlayer(\"Opt1A\", (27.1, 72.5, 70.5, 75.0)))\n",
    "listAtk.append(createOptPlayer(\"Opt2A\", (99, 28, 78, 23)))\n",
    "listAtk.append(createOptPlayer(\"Opt3A\", (87.0, 67.5, 45.5, 75.0)))\n",
    "listAtk.append(createOptPlayer(\"Opt4A\", (18.299999999999997, 23.0, 58.0, 72.4)))\n",
    "\n",
    "listDef.append(createOptPlayer(\"Opt1D\", (83.1, 23.6, 35.5, 24.9)))\n",
    "listDef.append(createOptPlayer(\"Opt2D\", (24.799999999999997, 36.199999999999996, 87.5, 55.8)))\n",
    "listDef.append(createOptPlayer(\"Opt3D\", (68.6, 68.5, 8, 80.3)))\n",
    "listDef.append(createOptPlayer(\"Opt4D\", (54.3, 74.6, 52.9, 48.0)))\n",
    "\n",
    "\n",
    "for g in range(num_gen):\n",
    "    print(\"Generation: \"+str(g))\n",
    "    for j in range(len(listAtk)):\n",
    "        listAtk[j][\"score\"] = 0\n",
    "        listDef[j][\"score\"] = 0\n",
    "    lists = faz_campeonato(listAtk, listDef)\n",
    "    lists = fitness(lists, num_survivors)\n",
    "    writetxt(listAtk, 0)\n",
    "    writetxt(listDef, 1)\n",
    "    listAtk = lists[0]\n",
    "    listDef = lists[1]\n",
    "    newAtk = []\n",
    "    newDef = []\n",
    "    for i in range(num_reproduce):\n",
    "        ga = mutate( reproduce(listAtk[randint(0, len(listAtk)-1)][\"adn\"], listAtk[randint(0, len(listAtk)-1)][\"adn\"] ), g)\n",
    "        newAtk.append( createPlayer( \"Atk(\"+str(g)+\")-\", ga) )\n",
    "        gd = mutate( reproduce(listDef[randint(0, len(listDef)-1)][\"adn\"], listDef[randint(0, len(listDef)-1)][\"adn\"] ), g )\n",
    "        newDef.append( createPlayer( \"Def(\"+str(g)+\")-\", gd) )\n",
    "    listAtk.extend(newAtk)\n",
    "    listDef.extend(newDef)\n",
    "```\n",
    "\n",
    "Dos quais obtemos os seguintes jogadores:\n",
    "```\n",
    "(\"OptOptA\", (10.299999999999997, 27.0, 85.0, 74.5)\n",
    "(\"OptOptD\", (99.1, 74.6, 37.0, 57.900000000000006)\n",
    "```\n",
    "\n",
    "Sendo que os valores destes tuplos correspondem ao nome do jogador, e aos pesos dos critérios de avaliação, respetivamente."
   ]
  }
 ],
 "metadata": {
  "colab": {
   "collapsed_sections": [],
   "name": "Untitled0.ipynb",
   "provenance": [],
   "version": "0.3.2"
  },
  "kernelspec": {
   "display_name": "Python 3",
   "language": "python",
   "name": "python3"
  },
  "language_info": {
   "codemirror_mode": {
    "name": "ipython",
    "version": 3
   },
   "file_extension": ".py",
   "mimetype": "text/x-python",
   "name": "python",
   "nbconvert_exporter": "python",
   "pygments_lexer": "ipython3",
   "version": "3.7.0"
  }
 },
 "nbformat": 4,
 "nbformat_minor": 2
}
